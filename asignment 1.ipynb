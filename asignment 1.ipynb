{
 "cells": [
  {
   "cell_type": "markdown",
   "id": "144b2c4e-999c-43ac-aaf0-69a531695c67",
   "metadata": {},
   "source": [
    "# String Formatting\n"
   ]
  },
  {
   "cell_type": "code",
   "execution_count": 1,
   "id": "24d9e313-4a53-4bf9-8d6f-6d61a13c26cd",
   "metadata": {},
   "outputs": [
    {
     "name": "stdout",
     "output_type": "stream",
     "text": [
      "Hello, Alice! You are 30 years old.\n"
     ]
    }
   ],
   "source": [
    "name = \"Alice\" #Inserts values into strings using f-strings or the format() method.\n",
    "age = 30\n",
    "formatted_string = f\"Hello, {name}! You are {age} years old.\"\n",
    "print(formatted_string) \n"
   ]
  },
  {
   "cell_type": "markdown",
   "id": "f76c694d-fb9e-4a0d-b47b-d41117a75b73",
   "metadata": {},
   "source": [
    "# Escape Sequences"
   ]
  },
  {
   "cell_type": "code",
   "execution_count": 2,
   "id": "1d19e344-3ac0-47a8-ae4a-61fe51341648",
   "metadata": {},
   "outputs": [
    {
     "name": "stdout",
     "output_type": "stream",
     "text": [
      "This is a string with a \"double quote\".\n"
     ]
    }
   ],
   "source": [
    "message = \"This is a string with a \\\"double quote\\\".\"\n",
    "print(message)  \n"
   ]
  },
  {
   "cell_type": "markdown",
   "id": "f2d0fa41-317d-48f1-bd02-9dd14941e015",
   "metadata": {},
   "source": [
    "# String Membership"
   ]
  },
  {
   "cell_type": "code",
   "execution_count": 3,
   "id": "342bf4bf-92d4-4b4a-a27e-e917936357e6",
   "metadata": {},
   "outputs": [
    {
     "name": "stdout",
     "output_type": "stream",
     "text": [
      "True\n"
     ]
    }
   ],
   "source": [
    "string = \"JavaScript\"\n",
    "check_char = \"J\"\n",
    "print(check_char in string) \n"
   ]
  },
  {
   "cell_type": "markdown",
   "id": "f39b1e20-98cb-4a35-b3a7-05459b2ef5aa",
   "metadata": {},
   "source": [
    "# String Replacement"
   ]
  },
  {
   "cell_type": "code",
   "execution_count": 4,
   "id": "a05a14cc-f1bb-4cb6-b810-0c8660c15618",
   "metadata": {},
   "outputs": [
    {
     "name": "stdout",
     "output_type": "stream",
     "text": [
      "Replace the word 'universe' with 'universe'.\n"
     ]
    }
   ],
   "source": [
    "string = \"Replace the word 'world' with 'universe'.\" # Replaces occurrences of a substring with another substring using the replace() method.\n",
    "\n",
    "replaced_string = string.replace(\"world\", \"universe\")\n",
    "print(replaced_string)  \n"
   ]
  },
  {
   "cell_type": "markdown",
   "id": "1bd8e064-8436-45c5-8306-9d0b34828535",
   "metadata": {},
   "source": [
    "# String Splitting"
   ]
  },
  {
   "cell_type": "code",
   "execution_count": 5,
   "id": "35a62a32-edfe-48de-8073-e4d522742970",
   "metadata": {},
   "outputs": [
    {
     "name": "stdout",
     "output_type": "stream",
     "text": [
      "['This', 'is', 'a', 'string', 'with', 'multiple', 'words.']\n"
     ]
    }
   ],
   "source": [
    "string = \"This is a string with multiple words.\" # Splits a string into a list of substrings using the split() method.\n",
    "word_list = string.split()\n",
    "print(word_list)  \n"
   ]
  },
  {
   "cell_type": "markdown",
   "id": "b8a0f4c8-8f4a-4efa-aab3-864e27cda6d3",
   "metadata": {},
   "source": [
    "# String Length"
   ]
  },
  {
   "cell_type": "code",
   "execution_count": 8,
   "id": "b89270a5-a457-437a-9851-92c49fb454ec",
   "metadata": {},
   "outputs": [
    {
     "name": "stdout",
     "output_type": "stream",
     "text": [
      "25\n"
     ]
    }
   ],
   "source": [
    "string = \"How many characters am I?\" # Finds the length of a string using the len() function.\n",
    "\n",
    "string_length = len(string)\n",
    "print(string_length)  \n"
   ]
  },
  {
   "cell_type": "markdown",
   "id": "4bb3630e-c3c9-4bc7-942f-2f1e6c79cc87",
   "metadata": {},
   "source": [
    "# String isalpha(), isalnum(), isdigit()"
   ]
  },
  {
   "cell_type": "code",
   "execution_count": 7,
   "id": "c0daf3b5-dfe3-4cff-8683-c5c2b2529f5d",
   "metadata": {},
   "outputs": [
    {
     "name": "stdout",
     "output_type": "stream",
     "text": [
      "False\n",
      "True\n",
      "False\n"
     ]
    }
   ],
   "source": [
    "string1 = \"hello123\"\n",
    "print(string1.isalpha()) \n",
    "print(string1.isalnum()) \n",
    "print(string1.isdigit()) \n"
   ]
  },
  {
   "cell_type": "code",
   "execution_count": null,
   "id": "64aed679-6bd4-495e-b0e4-0781d25466dd",
   "metadata": {},
   "outputs": [],
   "source": []
  },
  {
   "cell_type": "code",
   "execution_count": null,
   "id": "77cab763-0215-4f75-9efa-41670d8fdcdb",
   "metadata": {},
   "outputs": [],
   "source": []
  }
 ],
 "metadata": {
  "kernelspec": {
   "display_name": "Python 3 (ipykernel)",
   "language": "python",
   "name": "python3"
  },
  "language_info": {
   "codemirror_mode": {
    "name": "ipython",
    "version": 3
   },
   "file_extension": ".py",
   "mimetype": "text/x-python",
   "name": "python",
   "nbconvert_exporter": "python",
   "pygments_lexer": "ipython3",
   "version": "3.12.2"
  }
 },
 "nbformat": 4,
 "nbformat_minor": 5
}
