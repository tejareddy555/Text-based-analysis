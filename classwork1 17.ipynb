{
 "cells": [
  {
   "cell_type": "markdown",
   "id": "54638a1b-83e1-4946-b17f-7b208e86caeb",
   "metadata": {},
   "source": [
    "String operations using Phython"
   ]
  },
  {
   "cell_type": "code",
   "execution_count": 1,
   "id": "e862d1f0-e7c1-46f5-86ac-7ec301bd4557",
   "metadata": {},
   "outputs": [
    {
     "name": "stdout",
     "output_type": "stream",
     "text": [
      "e\n",
      "llo\n"
     ]
    }
   ],
   "source": [
    "#string\n",
    "a= \"Hello, World!\" \n",
    "#print string\n",
    "print(a[1])\n",
    "b = \"Hello, World!\"\n",
    "# slicing a string\n",
    "print(b[2:5])\n",
    "##changes"
   ]
  },
  {
   "cell_type": "code",
   "execution_count": 1,
   "id": "f6a29051-53ab-4750-93d9-3dfbd867bb97",
   "metadata": {},
   "outputs": [
    {
     "name": "stdout",
     "output_type": "stream",
     "text": [
      "13\n",
      "HELLO, WORLD!\n",
      "hello, world!\n",
      "Jello, World!\n"
     ]
    }
   ],
   "source": [
    "a = \"Hello, World!\"\n",
    "#string length\n",
    "print(len(a)) \n",
    "#uppercase string\n",
    "print(a.upper())\n",
    " #string in lowercase\n",
    "print(a.lower()) \n",
    "#string replace\n",
    "print(a.replace(\"H\", \"J\"))"
   ]
  },
  {
   "cell_type": "code",
   "execution_count": 2,
   "id": "6af0b621-39bb-4d2d-8588-a6fd43b83423",
   "metadata": {},
   "outputs": [
    {
     "name": "stdout",
     "output_type": "stream",
     "text": [
      "Hello World\n"
     ]
    }
   ],
   "source": [
    "a = \"Hello\"\n",
    "b = \"World\"\n",
    "c = a + \" \" + b #concatenation\n",
    "print(c)"
   ]
  },
  {
   "cell_type": "code",
   "execution_count": 3,
   "id": "7a6e7776-c2f5-4f46-ac92-0079b67ef756",
   "metadata": {},
   "outputs": [
    {
     "name": "stdout",
     "output_type": "stream",
     "text": [
      "['One', 'two', 'three', 'four']\n",
      "['1', '2', '3', '4', '5']\n"
     ]
    }
   ],
   "source": [
    "#Splitting in a string\n",
    "my_string = 'One two three four'\n",
    "word_list = my_string.split()\n",
    "print(word_list)\n",
    "\n",
    "my_string = '1/2/3/4/5'\n",
    "number_list = my_string.split('/')\n",
    "print(number_list)"
   ]
  },
  {
   "cell_type": "code",
   "execution_count": 4,
   "id": "db670551-b0b7-4539-b57a-86e45902cf23",
   "metadata": {},
   "outputs": [
    {
     "name": "stdout",
     "output_type": "stream",
     "text": [
      "Lowercase:    hello world   \n",
      "Left Stripped: Hello World   \n",
      "Right Stripped:    Hello World\n"
     ]
    }
   ],
   "source": [
    "original_string = \"   Hello World   \"\n",
    "\n",
    "lowercase_string = original_string.lower()\n",
    "print(\"Lowercase:\", lowercase_string)\n",
    "\n",
    "left_stripped_string = original_string.lstrip()\n",
    "print(\"Left Stripped:\", left_stripped_string)\n",
    "\n",
    "right_stripped_string = original_string.rstrip()\n",
    "print(\"Right Stripped:\", right_stripped_string)"
   ]
  }
 ],
 "metadata": {
  "kernelspec": {
   "display_name": "Python 3 (ipykernel)",
   "language": "python",
   "name": "python3"
  },
  "language_info": {
   "codemirror_mode": {
    "name": "ipython",
    "version": 3
   },
   "file_extension": ".py",
   "mimetype": "text/x-python",
   "name": "python",
   "nbconvert_exporter": "python",
   "pygments_lexer": "ipython3",
   "version": "3.12.1"
  }
 },
 "nbformat": 4,
 "nbformat_minor": 5
}
