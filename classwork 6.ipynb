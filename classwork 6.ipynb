{
 "cells": [
  {
   "cell_type": "markdown",
   "id": "34c2b529-5bdd-4d37-a0b1-a233f88955a3",
   "metadata": {},
   "source": [
    "# INSTALLING NETWORKX PACKAGE"
   ]
  },
  {
   "cell_type": "markdown",
   "id": "2087ad92-b6d5-41c9-814f-8b46648a3eec",
   "metadata": {},
   "source": [
    "Networkx is a Python library designed for working with complex networks or graphs. It offers a wide range of tools to examine the structure and behavior of networks, along with numerous graph theory algorithms."
   ]
  },
  {
   "cell_type": "code",
   "execution_count": 4,
   "id": "a7787b96-008a-4855-94ef-c2c3c3c0bcab",
   "metadata": {},
   "outputs": [
    {
     "name": "stdout",
     "output_type": "stream",
     "text": [
      "Requirement already satisfied: networkx in c:\\users\\abhil\\appdata\\local\\programs\\python\\python312\\lib\\site-packages (3.2.1)Note: you may need to restart the kernel to use updated packages.\n",
      "\n"
     ]
    }
   ],
   "source": [
    "pip install networkx"
   ]
  },
  {
   "cell_type": "markdown",
   "id": "6deeffe4-349d-44af-8fa4-627bbe73cfea",
   "metadata": {},
   "source": [
    " # IMPORTING NECESSARY PACKAGES"
   ]
  },
  {
   "cell_type": "markdown",
   "id": "811ac2d8-6096-443c-8eda-0654403ff66c",
   "metadata": {},
   "source": [
    "The cosine_distance function is part of the util module within the cluster package of the NLTK (Natural Language Toolkit) library. It facilitates the computation of cosine distance, which is a measure used to determine the similarity between vectors, commonly used in tasks related to clustering and comparing text similarity.\n",
    "\n",
    "\n",
    "\n",
    "\n",
    "\n",
    "\n"
   ]
  },
  {
   "cell_type": "code",
   "execution_count": 6,
   "id": "6610244a-8ff4-4f71-941f-91933b11fd70",
   "metadata": {},
   "outputs": [],
   "source": [
    "from nltk.corpus import stopwords #you can remove stop words for speed\n",
    "from nltk.cluster.util import cosine_distance\n",
    "import numpy as np\n",
    "import networkx as nx"
   ]
  },
  {
   "cell_type": "markdown",
   "id": "42da3d30-1475-4b80-a7a5-7196ac745e54",
   "metadata": {},
   "source": [
    "# OPENING FILE AND SPLITTING INTO SENTENCES"
   ]
  },
  {
   "cell_type": "code",
   "execution_count": 10,
   "id": "6bdd91a9-414c-40ed-b125-cb20340fdaa6",
   "metadata": {},
   "outputs": [
    {
     "name": "stdout",
     "output_type": "stream",
     "text": [
      "It was the best of times\n",
      "It was the worst of times\n",
      "It was the age of wisdom\n",
      "It was the age of foolishness\n",
      "What is the importance of age\n",
      "This is the best example.\n"
     ]
    }
   ],
   "source": [
    "file = open(\"C:/Users/teja/Downloads/Text1.txt\", \"r\")\n",
    "#This fileA contains one paragraph of multiple sentences\n",
    "filedata = file.readlines()\n",
    "article = filedata[0].split(\". \") #Just do the first paragraph\n",
    "\n",
    "sentences = []\n",
    "for sentence in article:\n",
    "    print(sentence)\n",
    "    sentences.append(sentence.replace(\"[^a-zA-Z]\", \" \").split(\" \"))"
   ]
  },
  {
   "cell_type": "markdown",
   "id": "989a22c0-7228-4c8b-8afa-b229cd32d42f",
   "metadata": {},
   "source": [
    "# PRINTING LIST OF SENTENCES"
   ]
  },
  {
   "cell_type": "code",
   "execution_count": 11,
   "id": "9229d02e-5a08-4279-8b8e-391200eeed72",
   "metadata": {},
   "outputs": [
    {
     "name": "stdout",
     "output_type": "stream",
     "text": [
      "Sentences are  [['It', 'was', 'the', 'best', 'of', 'times'], ['It', 'was', 'the', 'worst', 'of', 'times'], ['It', 'was', 'the', 'age', 'of', 'wisdom'], ['It', 'was', 'the', 'age', 'of', 'foolishness'], ['What', 'is', 'the', 'importance', 'of', 'age'], ['This', 'is', 'the', 'best', 'example.']]\n"
     ]
    }
   ],
   "source": [
    "print(\"Sentences are \", sentences)"
   ]
  },
  {
   "cell_type": "markdown",
   "id": "c06e3bd3-f702-488a-accb-5543c73aabf8",
   "metadata": {},
   "source": [
    "# FUNCTION TO CALCULATE SIMILARITY"
   ]
  },
  {
   "cell_type": "markdown",
   "id": "d935ec0b-56ea-489d-a8aa-77afbcf2a098",
   "metadata": {},
   "source": [
    "The sentence_similarity function measures the similarity between two sentences by using their word frequency vectors and the cosine distance metric. It initially converts the sentences to lowercase and then creates vectors that reflect the frequency of each unique word in the sentences. The function concludes by providing a similarity score derived from the cosine distance between these "
   ]
  },
  {
   "cell_type": "code",
   "execution_count": 12,
   "id": "0d0bf2b0-70bf-4dfc-8e5b-87658d660d60",
   "metadata": {},
   "outputs": [],
   "source": [
    "def sentence_similarity(sent1, sent2 ):\n",
    "    sent1 = [w.lower() for w in sent1]\n",
    "    sent2 = [w.lower() for w in sent2]\n",
    "    all_words = list(set(sent1 + sent2))\n",
    "    vector1 = [0] * len(all_words)\n",
    "    vector2 = [0] * len(all_words)\n",
    "     # build the vector for the first sentence\n",
    "    for w in sent1:\n",
    "          vector1[all_words.index(w)] += 1\n",
    "     # build the vector for the second sentence\n",
    "    for w in sent2:\n",
    "          vector2[all_words.index(w)] += 1\n",
    "    return 1 - cosine_distance(vector1, vector2)"
   ]
  },
  {
   "cell_type": "markdown",
   "id": "7fb37808-3e17-4c31-aa3a-0546ef8c3962",
   "metadata": {},
   "source": [
    "# CREATING SIMILARITY MATRIX"
   ]
  },
  {
   "cell_type": "markdown",
   "id": "6d71a667-da85-4417-ac79-b61556dfdf2c",
   "metadata": {},
   "source": [
    "The similarity_matrix, a numpy array filled initially with zeros, serves to quantify the similarity between pairs of sentences. As the code progresses, it assesses every possible sentence pairing, employing the sentence_similarity function to evaluate their similarity and recording these scores within the matrix. It disregards the matrix's diagonal elements, where idx1 equals idx2, since these indicate a sentence being compared to itself. Upon completion, the code outputs the fully populated similarity matrix."
   ]
  },
  {
   "cell_type": "code",
   "execution_count": 13,
   "id": "0b2d9d23-17fb-408e-b1c6-349517366071",
   "metadata": {},
   "outputs": [
    {
     "name": "stdout",
     "output_type": "stream",
     "text": [
      "Smilarity matrix \n",
      " [[0.         0.83333333 0.66666667 0.66666667 0.33333333 0.36514837]\n",
      " [0.83333333 0.         0.66666667 0.66666667 0.33333333 0.18257419]\n",
      " [0.66666667 0.66666667 0.         0.83333333 0.5        0.18257419]\n",
      " [0.66666667 0.66666667 0.83333333 0.         0.5        0.18257419]\n",
      " [0.33333333 0.33333333 0.5        0.5        0.         0.36514837]\n",
      " [0.36514837 0.18257419 0.18257419 0.18257419 0.36514837 0.        ]]\n"
     ]
    }
   ],
   "source": [
    "similarity_matrix = np.zeros((len(sentences), len(sentences)))\n",
    " \n",
    "for idx1 in range(len(sentences)):\n",
    "        for idx2 in range(len(sentences)):\n",
    "             if idx1 == idx2: #ignore if both are same sentences\n",
    "                continue \n",
    "             similarity_matrix[idx1][idx2] = sentence_similarity(sentences[idx1], sentences[idx2])\n",
    "\n",
    "print(\"Smilarity matrix \\n\", similarity_matrix)"
   ]
  },
  {
   "cell_type": "markdown",
   "id": "c1b20cb8-a15a-45ef-8c7c-2f11a24a4bbc",
   "metadata": {},
   "source": [
    "# GETTING PAGERANK SCORES"
   ]
  },
  {
   "cell_type": "code",
   "execution_count": 14,
   "id": "0f0dbdee-1fed-424d-b827-6cf793e63db8",
   "metadata": {},
   "outputs": [
    {
     "name": "stdout",
     "output_type": "stream",
     "text": [
      "scores {0: 0.19306449754902083, 1: 0.18095893645850156, 2: 0.1911855225552033, 3: 0.1911855225552033, 4: 0.14434636291527997, 5: 0.09925915796679063}\n"
     ]
    }
   ],
   "source": [
    "# Step 3 - Rank sentences in similarity martix\n",
    "sentence_similarity_graph = nx.from_numpy_array(similarity_matrix)\n",
    "scores = nx.pagerank(sentence_similarity_graph)\n",
    "print(\"scores\", scores)"
   ]
  },
  {
   "cell_type": "markdown",
   "id": "bf56b0f0-0d09-4cea-8183-f63a79e44ec2",
   "metadata": {},
   "source": [
    "# SORTING SENTENCE BY PAGE RANK"
   ]
  },
  {
   "cell_type": "code",
   "execution_count": 15,
   "id": "31483734-5c8f-4701-9e3b-6d95f3a1d06c",
   "metadata": {},
   "outputs": [
    {
     "name": "stdout",
     "output_type": "stream",
     "text": [
      "Indexes of top ranked_sentence order are \n",
      "\n",
      " [(0.19306449754902083, ['It', 'was', 'the', 'best', 'of', 'times']), (0.1911855225552033, ['It', 'was', 'the', 'age', 'of', 'wisdom']), (0.1911855225552033, ['It', 'was', 'the', 'age', 'of', 'foolishness']), (0.18095893645850156, ['It', 'was', 'the', 'worst', 'of', 'times']), (0.14434636291527997, ['What', 'is', 'the', 'importance', 'of', 'age']), (0.09925915796679063, ['This', 'is', 'the', 'best', 'example.'])]\n"
     ]
    }
   ],
   "source": [
    "# Step 4 - Sort the rank and pick top sentences\n",
    "ranked_sentence = sorted(((scores[i],s) for i,s in enumerate(sentences)), reverse=True)    \n",
    "print(\"Indexes of top ranked_sentence order are \\n\\n\", ranked_sentence)"
   ]
  },
  {
   "cell_type": "markdown",
   "id": "1040bf93-09a4-41c4-8176-6b39aa1b46a4",
   "metadata": {},
   "source": [
    "# PICKING TOP \"N\" SENTENCES"
   ]
  },
  {
   "cell_type": "code",
   "execution_count": 19,
   "id": "12b7960a-89ac-4012-bfb1-c9054d84ef00",
   "metadata": {},
   "outputs": [
    {
     "name": "stdin",
     "output_type": "stream",
     "text": [
      "How many sentences do you want in the summary?  3\n"
     ]
    }
   ],
   "source": [
    "#Step 5 - How many sentences to pick\n",
    "n = int(input(\"How many sentences do you want in the summary? \"))\n",
    "#n=2\n",
    "summarize_text = []\n",
    "for i in range(n):\n",
    "      summarize_text.append(\" \".join(ranked_sentence[i][1]))"
   ]
  },
  {
   "cell_type": "markdown",
   "id": "5ba10b8d-1eb0-4012-8eb4-a5784d761eef",
   "metadata": {},
   "source": [
    "# PRINTING SUMMARY"
   ]
  },
  {
   "cell_type": "code",
   "execution_count": 20,
   "id": "f8320302-edbc-4049-892e-56ad47de766d",
   "metadata": {},
   "outputs": [
    {
     "name": "stdout",
     "output_type": "stream",
     "text": [
      "Summarize Text: \n",
      " It was the best of times. It was the age of wisdom. It was the age of foolishness\n"
     ]
    }
   ],
   "source": [
    "### Step 6 - Offcourse, output the summarize text\n",
    "print(\"Summarize Text: \\n\", \". \".join(summarize_text))"
   ]
  },
  {
   "cell_type": "markdown",
   "id": "00e2a580-80dc-437d-9954-4d90152d36cd",
   "metadata": {},
   "source": [
    "# INSTALLING NETWORKX PACKAGE"
   ]
  },
  {
   "cell_type": "markdown",
   "id": "ddb59974-0e57-4aaa-92a0-bbec09be4779",
   "metadata": {},
   "source": [
    "\n",
    "Networkx is a Python library designed for constructing, modifying, and analyzing complex networks or graphs. It offers a comprehensive collection of tools for examining network structures and dynamics, alongside a variety of graph theory algorithms."
   ]
  },
  {
   "cell_type": "code",
   "execution_count": 21,
   "id": "8a2598c6-d57e-4079-aaf2-9a8346d7fa5a",
   "metadata": {},
   "outputs": [
    {
     "name": "stdout",
     "output_type": "stream",
     "text": [
      "Requirement already satisfied: networkx in c:\\users\\abhil\\appdata\\local\\programs\\python\\python312\\lib\\site-packages (3.2.1)\n",
      "Note: you may need to restart the kernel to use updated packages.\n"
     ]
    }
   ],
   "source": [
    "pip install networkx"
   ]
  },
  {
   "cell_type": "markdown",
   "id": "fd3ab027-dd09-4abf-8a8e-4d5a792e924c",
   "metadata": {},
   "source": [
    "# IMPORTING NECESSARY PACKAGES"
   ]
  },
  {
   "cell_type": "markdown",
   "id": "1a03dba9-2087-4fa9-af70-6d35454b06bb",
   "metadata": {},
   "source": [
    "The cosine_distance function is part of the util module within the cluster package of the NLTK (Natural Language Toolkit) library. It facilitates the computation of cosine distance, which is a measure used to determine the similarity between vectors, commonly used in tasks related to clustering and comparing text similarity.\n",
    "\n",
    "\n",
    "\n",
    "\n"
   ]
  },
  {
   "cell_type": "code",
   "execution_count": 22,
   "id": "cf851a53-812a-479e-8f63-38731e309000",
   "metadata": {},
   "outputs": [],
   "source": [
    "from nltk.corpus import stopwords #you can remove stop words for speed\n",
    "from nltk.cluster.util import cosine_distance\n",
    "import numpy as np\n",
    "import networkx as nx"
   ]
  },
  {
   "cell_type": "markdown",
   "id": "3807eeb3-9ca1-4a80-8f5d-b311627c8391",
   "metadata": {},
   "source": [
    "# OPENING FILE AND SPLITTING INTO SENTENCES"
   ]
  },
  {
   "cell_type": "code",
   "execution_count": 23,
   "id": "784cbb55-a2e9-4252-a116-485e350c3c55",
   "metadata": {},
   "outputs": [
    {
     "name": "stdout",
     "output_type": "stream",
     "text": [
      "It was the best of times\n",
      "It was the worst of times\n",
      "It was the age of wisdom\n",
      "It was the age of foolishness\n",
      "What is the importance of age\n",
      "This is the best example.\n"
     ]
    }
   ],
   "source": [
    "file = open(\"C:/Users/teja/Downloads/Text1.txt\", \"r\")\n",
    "#This fileA contains one paragraph of multiple sentences\n",
    "filedata = file.readlines()\n",
    "article = filedata[0].split(\". \") #Just do the first paragraph\n",
    "\n",
    "sentences = []\n",
    "for sentence in article:\n",
    "    print(sentence)\n",
    "    sentences.append(sentence.replace(\"[^a-zA-Z]\", \" \").split(\" \"))"
   ]
  },
  {
   "cell_type": "markdown",
   "id": "702fe000-9eab-4fd9-b122-d299cc8461c5",
   "metadata": {},
   "source": [
    "# PRINTING LIST OF SENTENCES"
   ]
  },
  {
   "cell_type": "code",
   "execution_count": 24,
   "id": "63b5fe95-8db5-4600-b916-79340fc3232a",
   "metadata": {},
   "outputs": [
    {
     "name": "stdout",
     "output_type": "stream",
     "text": [
      "Sentences are  [['It', 'was', 'the', 'best', 'of', 'times'], ['It', 'was', 'the', 'worst', 'of', 'times'], ['It', 'was', 'the', 'age', 'of', 'wisdom'], ['It', 'was', 'the', 'age', 'of', 'foolishness'], ['What', 'is', 'the', 'importance', 'of', 'age'], ['This', 'is', 'the', 'best', 'example.']]\n"
     ]
    }
   ],
   "source": [
    "print(\"Sentences are \", sentences)"
   ]
  },
  {
   "cell_type": "markdown",
   "id": "1edccb54-49db-47cb-ad9c-31133664dad2",
   "metadata": {},
   "source": [
    "# FUNCTION TO CALCULATE SIMILARITY"
   ]
  },
  {
   "cell_type": "markdown",
   "id": "bd09b0a6-0133-4ca8-ae81-7f5c109ef9f4",
   "metadata": {},
   "source": [
    "\n",
    "The sentence_similarity function determines how similar two sentences are by analyzing their word frequency vectors and using cosine distance as the measurement. Initially, it converts the sentences to lowercase and constructs vectors that capture the frequency of every unique word in the sentences. The process concludes by computing a similarity score that reflects the cosine distance between these vectors."
   ]
  },
  {
   "cell_type": "code",
   "execution_count": 25,
   "id": "ab6c77e4-c793-43a0-84f4-54d2fda68cd2",
   "metadata": {},
   "outputs": [],
   "source": [
    "def sentence_similarity(sent1, sent2 ):\n",
    "    sent1 = [w.lower() for w in sent1]\n",
    "    sent2 = [w.lower() for w in sent2]\n",
    "    all_words = list(set(sent1 + sent2))\n",
    "    vector1 = [0] * len(all_words)\n",
    "    vector2 = [0] * len(all_words)\n",
    "     # build the vector for the first sentence\n",
    "    for w in sent1:\n",
    "          vector1[all_words.index(w)] += 1\n",
    "     # build the vector for the second sentence\n",
    "    for w in sent2:\n",
    "          vector2[all_words.index(w)] += 1\n",
    "    return 1 - cosine_distance(vector1, vector2)"
   ]
  },
  {
   "cell_type": "markdown",
   "id": "50655782-71b3-4a6a-a2fd-1a9d4cdf3583",
   "metadata": {},
   "source": [
    "# CREATING SIMILARITY MATRIX"
   ]
  },
  {
   "cell_type": "code",
   "execution_count": 26,
   "id": "e57fe617-1073-4913-9e30-14ecf59098cc",
   "metadata": {},
   "outputs": [
    {
     "name": "stdout",
     "output_type": "stream",
     "text": [
      "Smilarity matrix \n",
      " [[0.         0.83333333 0.66666667 0.66666667 0.33333333 0.36514837]\n",
      " [0.83333333 0.         0.66666667 0.66666667 0.33333333 0.18257419]\n",
      " [0.66666667 0.66666667 0.         0.83333333 0.5        0.18257419]\n",
      " [0.66666667 0.66666667 0.83333333 0.         0.5        0.18257419]\n",
      " [0.33333333 0.33333333 0.5        0.5        0.         0.36514837]\n",
      " [0.36514837 0.18257419 0.18257419 0.18257419 0.36514837 0.        ]]\n"
     ]
    }
   ],
   "source": [
    "similarity_matrix = np.zeros((len(sentences), len(sentences)))\n",
    " \n",
    "for idx1 in range(len(sentences)):\n",
    "        for idx2 in range(len(sentences)):\n",
    "             if idx1 == idx2: #ignore if both are same sentences\n",
    "                continue \n",
    "             similarity_matrix[idx1][idx2] = sentence_similarity(sentences[idx1], sentences[idx2])\n",
    "\n",
    "print(\"Smilarity matrix \\n\", similarity_matrix)"
   ]
  },
  {
   "cell_type": "markdown",
   "id": "0fb34d97-c483-4721-bc34-a93cac42dbbb",
   "metadata": {},
   "source": [
    "# GETTING PAGERANK SCORES"
   ]
  },
  {
   "cell_type": "code",
   "execution_count": 27,
   "id": "26359963-275e-46b5-b4e1-1e3243df4ace",
   "metadata": {},
   "outputs": [
    {
     "name": "stdout",
     "output_type": "stream",
     "text": [
      "scores {0: 0.19306449754902083, 1: 0.18095893645850156, 2: 0.1911855225552033, 3: 0.1911855225552033, 4: 0.14434636291527997, 5: 0.09925915796679063}\n"
     ]
    }
   ],
   "source": [
    "# Step 3 - Rank sentences in similarity martix\n",
    "sentence_similarity_graph = nx.from_numpy_array(similarity_matrix)\n",
    "scores = nx.pagerank(sentence_similarity_graph)\n",
    "print(\"scores\", scores)"
   ]
  },
  {
   "cell_type": "markdown",
   "id": "67997817-0e93-4fae-9986-4cad43b6d8b3",
   "metadata": {},
   "source": [
    "# SORTING SENTENCE BY PAGE RANK"
   ]
  },
  {
   "cell_type": "code",
   "execution_count": 28,
   "id": "8691db74-0ae1-49e1-a728-73a90b2fc73a",
   "metadata": {},
   "outputs": [
    {
     "name": "stdout",
     "output_type": "stream",
     "text": [
      "Indexes of top ranked_sentence order are \n",
      "\n",
      " [(0.19306449754902083, ['It', 'was', 'the', 'best', 'of', 'times']), (0.1911855225552033, ['It', 'was', 'the', 'age', 'of', 'wisdom']), (0.1911855225552033, ['It', 'was', 'the', 'age', 'of', 'foolishness']), (0.18095893645850156, ['It', 'was', 'the', 'worst', 'of', 'times']), (0.14434636291527997, ['What', 'is', 'the', 'importance', 'of', 'age']), (0.09925915796679063, ['This', 'is', 'the', 'best', 'example.'])]\n"
     ]
    }
   ],
   "source": [
    "# Step 4 - Sort the rank and pick top sentences\n",
    "ranked_sentence = sorted(((scores[i],s) for i,s in enumerate(sentences)), reverse=True)    \n",
    "print(\"Indexes of top ranked_sentence order are \\n\\n\", ranked_sentence)"
   ]
  },
  {
   "cell_type": "markdown",
   "id": "9b8eee19-0467-4140-a293-d91e42d1ad83",
   "metadata": {},
   "source": [
    "# PICKING TOP \"N\" SENTENCES"
   ]
  },
  {
   "cell_type": "code",
   "execution_count": 29,
   "id": "8846a3bf-3c21-4807-b029-edd0cd3195ad",
   "metadata": {},
   "outputs": [
    {
     "name": "stdin",
     "output_type": "stream",
     "text": [
      "How many sentences do you want in the summary?  3\n"
     ]
    }
   ],
   "source": [
    "#Step 5 - How many sentences to pick\n",
    "n = int(input(\"How many sentences do you want in the summary? \"))\n",
    "#n=2\n",
    "summarize_text = []\n",
    "for i in range(n):\n",
    "      summarize_text.append(\" \".join(ranked_sentence[i][1]))"
   ]
  },
  {
   "cell_type": "markdown",
   "id": "7ac185be-0bfd-48fe-90f0-845d3595cb9c",
   "metadata": {},
   "source": [
    "# PRINTING SUMMARY"
   ]
  },
  {
   "cell_type": "code",
   "execution_count": 30,
   "id": "af5e4d98-8fdd-4853-b969-bd39d6f96f08",
   "metadata": {},
   "outputs": [
    {
     "name": "stdout",
     "output_type": "stream",
     "text": [
      "Summarize Text: \n",
      " It was the best of times. It was the age of wisdom. It was the age of foolishness\n"
     ]
    }
   ],
   "source": [
    "### Step 6 - Offcourse, output the summarize text\n",
    "print(\"Summarize Text: \\n\", \". \".join(summarize_text))"
   ]
  },
  {
   "cell_type": "markdown",
   "id": "44189f79-5ff3-4eb5-a361-d9305d74cfbf",
   "metadata": {},
   "source": [
    "# TEXTFILE-2"
   ]
  },
  {
   "cell_type": "markdown",
   "id": "ba30d9d3-5923-4ae4-bb06-7abc2b2cc250",
   "metadata": {},
   "source": [
    "# OPENING FILE AND SPLITTING INTO SENTENCES"
   ]
  },
  {
   "cell_type": "code",
   "execution_count": 31,
   "id": "668889b3-8d08-488a-b82c-411c6c83b37b",
   "metadata": {},
   "outputs": [
    {
     "name": "stdout",
     "output_type": "stream",
     "text": [
      "I AM SAM\n",
      "I AM SAM\n",
      "SAM I AM\n",
      "THAT SAM-I-AM! THAT SAM-I-AM!\n",
      "I DO NOT LIKE THAT SAM-I-AM!\n",
      "DO WOULD YOU LIKE GREEN EGGS AND HAM?\n",
      "I DO NOT LIKE THEM, SAM-I-AM\n",
      "I DO NOT LIKE GREEN EGGS AND HAM\n",
      "WOULD YOU LIKE THEM HERE OR THERE?\n",
      "I WOULD NOT LIKE THEM HERE OR THERE\n",
      "I WOULD NOT LIKE THEM ANYWHERE\n",
      "I DO NOT LIKE GREEN EGGS AND HAM\n",
      "I DO NOT LIKE THEM, SAM-I-AM\n",
      "WOULD YOU LIKE THEM IN A HOUSE?\n",
      "WOULD YOU LIKE THEN WITH A MOUSE?\n",
      "I DO NOT LIKE THEM IN A HOUSE\n",
      "I DO NOT LIKE THEM WITH A MOUSE\n",
      "I DO NOT LIKE THEM HERE OR THERE\n",
      "I DO NOT LIKE THEM ANYWHERE\n",
      "I DO NOT LIKE GREEN EGGS AND HAM\n",
      "I DO NOT LIKE THEM, SAM-I-AM.\n",
      "\n"
     ]
    }
   ],
   "source": [
    "file = open(\"C:/Users/teja/Downloads/Text2.txt\", \"r\")\n",
    "#This fileA contains one paragraph of multiple sentences\n",
    "filedata = file.readlines()\n",
    "article = filedata[0].split(\". \") #Just do the first paragraph\n",
    "\n",
    "sentences = []\n",
    "for sentence in article:\n",
    "    print(sentence)\n",
    "    sentences.append(sentence.replace(\"[^a-zA-Z]\", \" \").split(\" \"))"
   ]
  },
  {
   "cell_type": "markdown",
   "id": "159e071f-75ac-49fd-9f65-3ce9597f4b7c",
   "metadata": {},
   "source": [
    "# PRINTING LIST OF SENTENCES"
   ]
  },
  {
   "cell_type": "code",
   "execution_count": 32,
   "id": "2f13f854-f94a-407f-8874-c121a2994855",
   "metadata": {},
   "outputs": [
    {
     "name": "stdout",
     "output_type": "stream",
     "text": [
      "Sentences are  [['I', 'AM', 'SAM'], ['I', 'AM', 'SAM'], ['SAM', 'I', 'AM'], ['THAT', 'SAM-I-AM!', 'THAT', 'SAM-I-AM!'], ['I', 'DO', 'NOT', 'LIKE', 'THAT', 'SAM-I-AM!'], ['DO', 'WOULD', 'YOU', 'LIKE', 'GREEN', 'EGGS', 'AND', 'HAM?'], ['I', 'DO', 'NOT', 'LIKE', 'THEM,', 'SAM-I-AM'], ['I', 'DO', 'NOT', 'LIKE', 'GREEN', 'EGGS', 'AND', 'HAM'], ['WOULD', 'YOU', 'LIKE', 'THEM', 'HERE', 'OR', 'THERE?'], ['I', 'WOULD', 'NOT', 'LIKE', 'THEM', 'HERE', 'OR', 'THERE'], ['I', 'WOULD', 'NOT', 'LIKE', 'THEM', 'ANYWHERE'], ['I', 'DO', 'NOT', 'LIKE', 'GREEN', 'EGGS', 'AND', 'HAM'], ['I', 'DO', 'NOT', 'LIKE', 'THEM,', 'SAM-I-AM'], ['WOULD', 'YOU', 'LIKE', 'THEM', 'IN', 'A', 'HOUSE?'], ['WOULD', 'YOU', 'LIKE', 'THEN', 'WITH', 'A', 'MOUSE?'], ['I', 'DO', 'NOT', 'LIKE', 'THEM', 'IN', 'A', 'HOUSE'], ['I', 'DO', 'NOT', 'LIKE', 'THEM', 'WITH', 'A', 'MOUSE'], ['I', 'DO', 'NOT', 'LIKE', 'THEM', 'HERE', 'OR', 'THERE'], ['I', 'DO', 'NOT', 'LIKE', 'THEM', 'ANYWHERE'], ['I', 'DO', 'NOT', 'LIKE', 'GREEN', 'EGGS', 'AND', 'HAM'], ['I', 'DO', 'NOT', 'LIKE', 'THEM,', 'SAM-I-AM.\\n']]\n"
     ]
    }
   ],
   "source": [
    "print(\"Sentences are \", sentences)"
   ]
  },
  {
   "cell_type": "markdown",
   "id": "b773ac9c-d9b5-46fc-98de-c155570fca95",
   "metadata": {},
   "source": [
    "# FUNCTION TO CALCULATE SIMILARITY"
   ]
  },
  {
   "cell_type": "markdown",
   "id": "8044bf12-3cb9-46c6-b149-bf57b5cc9a80",
   "metadata": {},
   "source": [
    "The sentence_similarity function assesses the similarity between two sentences by using their word frequency vectors and cosine distance as the measurement tool. It starts by converting the sentences to lowercase and then constructs vectors that denote the frequency of each unique word found in the sentences. In the end, the function provides a similarity score that is derived from the cosine distance between these two vectors.\n",
    "\n",
    "\n",
    "\n",
    "\n",
    "\n"
   ]
  },
  {
   "cell_type": "code",
   "execution_count": 33,
   "id": "5b02d14e-53b7-426f-ac3d-cf2845799391",
   "metadata": {},
   "outputs": [],
   "source": [
    "def sentence_similarity(sent1, sent2 ):\n",
    "    sent1 = [w.lower() for w in sent1]\n",
    "    sent2 = [w.lower() for w in sent2]\n",
    "    all_words = list(set(sent1 + sent2))\n",
    "    vector1 = [0] * len(all_words)\n",
    "    vector2 = [0] * len(all_words)\n",
    "     # build the vector for the first sentence\n",
    "    for w in sent1:\n",
    "          vector1[all_words.index(w)] += 1\n",
    "     # build the vector for the second sentence\n",
    "    for w in sent2:\n",
    "          vector2[all_words.index(w)] += 1\n",
    "    return 1 - cosine_distance(vector1, vector2)"
   ]
  },
  {
   "cell_type": "markdown",
   "id": "31f04238-e948-4723-a965-d4f193e04038",
   "metadata": {},
   "source": [
    "# CREATING SIMILARITY MATRIX"
   ]
  },
  {
   "cell_type": "markdown",
   "id": "2ef5a028-55a8-4369-a2a3-8a11a3046720",
   "metadata": {},
   "source": [
    "The similarity_matrix, a numpy array starting off with zeros, maps out the similarity levels between pairs of sentences. It goes through every sentence combination, uses the sentence_similarity function to determine the similarity for each pair, and then fills the similarity_matrix with these calculated scores. It overlooks the matrix's diagonal elements, where idx1 equals idx2, since this would only compare a sentence to itself. At the end, it outputs the completed similarity matrix."
   ]
  },
  {
   "cell_type": "code",
   "execution_count": 34,
   "id": "6f61e7d8-8a8b-486d-afce-bf7d6a0919d4",
   "metadata": {},
   "outputs": [
    {
     "name": "stdout",
     "output_type": "stream",
     "text": [
      "Smilarity matrix \n",
      " [[0.         1.         1.         0.         0.23570226 0.\n",
      "  0.23570226 0.20412415 0.         0.20412415 0.23570226 0.20412415\n",
      "  0.23570226 0.         0.         0.20412415 0.20412415 0.20412415\n",
      "  0.23570226 0.20412415 0.23570226]\n",
      " [1.         0.         1.         0.         0.23570226 0.\n",
      "  0.23570226 0.20412415 0.         0.20412415 0.23570226 0.20412415\n",
      "  0.23570226 0.         0.         0.20412415 0.20412415 0.20412415\n",
      "  0.23570226 0.20412415 0.23570226]\n",
      " [1.         1.         0.         0.         0.23570226 0.\n",
      "  0.23570226 0.20412415 0.         0.20412415 0.23570226 0.20412415\n",
      "  0.23570226 0.         0.         0.20412415 0.20412415 0.20412415\n",
      "  0.23570226 0.20412415 0.23570226]\n",
      " [0.         0.         0.         0.         0.57735027 0.\n",
      "  0.         0.         0.         0.         0.         0.\n",
      "  0.         0.         0.         0.         0.         0.\n",
      "  0.         0.         0.        ]\n",
      " [0.23570226 0.23570226 0.23570226 0.57735027 0.         0.28867513\n",
      "  0.66666667 0.57735027 0.15430335 0.4330127  0.5        0.57735027\n",
      "  0.66666667 0.15430335 0.15430335 0.57735027 0.57735027 0.57735027\n",
      "  0.66666667 0.57735027 0.66666667]\n",
      " [0.         0.         0.         0.         0.28867513 0.\n",
      "  0.28867513 0.625      0.40089186 0.25       0.28867513 0.625\n",
      "  0.28867513 0.40089186 0.40089186 0.25       0.25       0.25\n",
      "  0.28867513 0.625      0.28867513]\n",
      " [0.23570226 0.23570226 0.23570226 0.         0.66666667 0.28867513\n",
      "  0.         0.57735027 0.15430335 0.4330127  0.5        0.57735027\n",
      "  1.         0.15430335 0.15430335 0.57735027 0.57735027 0.57735027\n",
      "  0.66666667 0.57735027 0.83333333]\n",
      " [0.20412415 0.20412415 0.20412415 0.         0.57735027 0.625\n",
      "  0.57735027 0.         0.13363062 0.375      0.4330127  1.\n",
      "  0.57735027 0.13363062 0.13363062 0.5        0.5        0.5\n",
      "  0.57735027 1.         0.57735027]\n",
      " [0.         0.         0.         0.         0.15430335 0.40089186\n",
      "  0.15430335 0.13363062 0.         0.6681531  0.46291005 0.13363062\n",
      "  0.15430335 0.57142857 0.42857143 0.26726124 0.26726124 0.53452248\n",
      "  0.3086067  0.13363062 0.15430335]\n",
      " [0.20412415 0.20412415 0.20412415 0.         0.4330127  0.25\n",
      "  0.4330127  0.375      0.6681531  0.         0.72168784 0.375\n",
      "  0.4330127  0.40089186 0.26726124 0.5        0.5        0.875\n",
      "  0.57735027 0.375      0.4330127 ]\n",
      " [0.23570226 0.23570226 0.23570226 0.         0.5        0.28867513\n",
      "  0.5        0.4330127  0.46291005 0.72168784 0.         0.4330127\n",
      "  0.5        0.46291005 0.3086067  0.57735027 0.57735027 0.57735027\n",
      "  0.83333333 0.4330127  0.5       ]\n",
      " [0.20412415 0.20412415 0.20412415 0.         0.57735027 0.625\n",
      "  0.57735027 1.         0.13363062 0.375      0.4330127  0.\n",
      "  0.57735027 0.13363062 0.13363062 0.5        0.5        0.5\n",
      "  0.57735027 1.         0.57735027]\n",
      " [0.23570226 0.23570226 0.23570226 0.         0.66666667 0.28867513\n",
      "  1.         0.57735027 0.15430335 0.4330127  0.5        0.57735027\n",
      "  0.         0.15430335 0.15430335 0.57735027 0.57735027 0.57735027\n",
      "  0.66666667 0.57735027 0.83333333]\n",
      " [0.         0.         0.         0.         0.15430335 0.40089186\n",
      "  0.15430335 0.13363062 0.57142857 0.40089186 0.46291005 0.13363062\n",
      "  0.15430335 0.         0.57142857 0.53452248 0.40089186 0.26726124\n",
      "  0.3086067  0.13363062 0.15430335]\n",
      " [0.         0.         0.         0.         0.15430335 0.40089186\n",
      "  0.15430335 0.13363062 0.42857143 0.26726124 0.3086067  0.13363062\n",
      "  0.15430335 0.57142857 0.         0.26726124 0.40089186 0.13363062\n",
      "  0.15430335 0.13363062 0.15430335]\n",
      " [0.20412415 0.20412415 0.20412415 0.         0.57735027 0.25\n",
      "  0.57735027 0.5        0.26726124 0.5        0.57735027 0.5\n",
      "  0.57735027 0.53452248 0.26726124 0.         0.75       0.625\n",
      "  0.72168784 0.5        0.57735027]\n",
      " [0.20412415 0.20412415 0.20412415 0.         0.57735027 0.25\n",
      "  0.57735027 0.5        0.26726124 0.5        0.57735027 0.5\n",
      "  0.57735027 0.40089186 0.40089186 0.75       0.         0.625\n",
      "  0.72168784 0.5        0.57735027]\n",
      " [0.20412415 0.20412415 0.20412415 0.         0.57735027 0.25\n",
      "  0.57735027 0.5        0.53452248 0.875      0.57735027 0.5\n",
      "  0.57735027 0.26726124 0.13363062 0.625      0.625      0.\n",
      "  0.72168784 0.5        0.57735027]\n",
      " [0.23570226 0.23570226 0.23570226 0.         0.66666667 0.28867513\n",
      "  0.66666667 0.57735027 0.3086067  0.57735027 0.83333333 0.57735027\n",
      "  0.66666667 0.3086067  0.15430335 0.72168784 0.72168784 0.72168784\n",
      "  0.         0.57735027 0.66666667]\n",
      " [0.20412415 0.20412415 0.20412415 0.         0.57735027 0.625\n",
      "  0.57735027 1.         0.13363062 0.375      0.4330127  1.\n",
      "  0.57735027 0.13363062 0.13363062 0.5        0.5        0.5\n",
      "  0.57735027 0.         0.57735027]\n",
      " [0.23570226 0.23570226 0.23570226 0.         0.66666667 0.28867513\n",
      "  0.83333333 0.57735027 0.15430335 0.4330127  0.5        0.57735027\n",
      "  0.83333333 0.15430335 0.15430335 0.57735027 0.57735027 0.57735027\n",
      "  0.66666667 0.57735027 0.        ]]\n"
     ]
    }
   ],
   "source": [
    "similarity_matrix = np.zeros((len(sentences), len(sentences)))\n",
    " \n",
    "for idx1 in range(len(sentences)):\n",
    "        for idx2 in range(len(sentences)):\n",
    "             if idx1 == idx2: #ignore if both are same sentences\n",
    "                continue \n",
    "             similarity_matrix[idx1][idx2] = sentence_similarity(sentences[idx1], sentences[idx2])\n",
    "\n",
    "print(\"Smilarity matrix \\n\", similarity_matrix)"
   ]
  },
  {
   "cell_type": "markdown",
   "id": "894cf49c-c4ea-4d54-8d60-b64850004a39",
   "metadata": {},
   "source": [
    "# GETTING PAGERANK SCORES"
   ]
  },
  {
   "cell_type": "code",
   "execution_count": 35,
   "id": "38991e5b-f4fc-488b-82df-eef2adf87af1",
   "metadata": {},
   "outputs": [
    {
     "name": "stdout",
     "output_type": "stream",
     "text": [
      "scores {0: 0.03492638917817515, 1: 0.03492638917817515, 2: 0.03492638917817515, 3: 0.010552425887368076, 4: 0.06321847556853293, 5: 0.03960609463088077, 6: 0.057289451630209653, 7: 0.056226314678287335, 8: 0.03486412173792891, 9: 0.053338934277549654, 10: 0.0566062415473087, 11: 0.056226314678287335, 12: 0.05728945163020967, 13: 0.0350182718613405, 14: 0.02940805086606966, 15: 0.056983599690836606, 16: 0.05702071446687991, 17: 0.057531865612924, 18: 0.06143601920162538, 19: 0.056226314678287335, 20: 0.05637816982094812}\n"
     ]
    }
   ],
   "source": [
    "# Step 3 - Rank sentences in similarity martix\n",
    "sentence_similarity_graph = nx.from_numpy_array(similarity_matrix)\n",
    "scores = nx.pagerank(sentence_similarity_graph)\n",
    "print(\"scores\", scores)"
   ]
  },
  {
   "cell_type": "markdown",
   "id": "cd55c21f-ba79-43dd-8653-5827b68cd6df",
   "metadata": {},
   "source": [
    "# SORTING SENTENCE BY PAGE RANK"
   ]
  },
  {
   "cell_type": "code",
   "execution_count": 36,
   "id": "0fb759b7-7f89-4701-a194-01c575613ebc",
   "metadata": {},
   "outputs": [
    {
     "name": "stdout",
     "output_type": "stream",
     "text": [
      "Indexes of top ranked_sentence order are \n",
      "\n",
      " [(0.06321847556853293, ['I', 'DO', 'NOT', 'LIKE', 'THAT', 'SAM-I-AM!']), (0.06143601920162538, ['I', 'DO', 'NOT', 'LIKE', 'THEM', 'ANYWHERE']), (0.057531865612924, ['I', 'DO', 'NOT', 'LIKE', 'THEM', 'HERE', 'OR', 'THERE']), (0.05728945163020967, ['I', 'DO', 'NOT', 'LIKE', 'THEM,', 'SAM-I-AM']), (0.057289451630209653, ['I', 'DO', 'NOT', 'LIKE', 'THEM,', 'SAM-I-AM']), (0.05702071446687991, ['I', 'DO', 'NOT', 'LIKE', 'THEM', 'WITH', 'A', 'MOUSE']), (0.056983599690836606, ['I', 'DO', 'NOT', 'LIKE', 'THEM', 'IN', 'A', 'HOUSE']), (0.0566062415473087, ['I', 'WOULD', 'NOT', 'LIKE', 'THEM', 'ANYWHERE']), (0.05637816982094812, ['I', 'DO', 'NOT', 'LIKE', 'THEM,', 'SAM-I-AM.\\n']), (0.056226314678287335, ['I', 'DO', 'NOT', 'LIKE', 'GREEN', 'EGGS', 'AND', 'HAM']), (0.056226314678287335, ['I', 'DO', 'NOT', 'LIKE', 'GREEN', 'EGGS', 'AND', 'HAM']), (0.056226314678287335, ['I', 'DO', 'NOT', 'LIKE', 'GREEN', 'EGGS', 'AND', 'HAM']), (0.053338934277549654, ['I', 'WOULD', 'NOT', 'LIKE', 'THEM', 'HERE', 'OR', 'THERE']), (0.03960609463088077, ['DO', 'WOULD', 'YOU', 'LIKE', 'GREEN', 'EGGS', 'AND', 'HAM?']), (0.0350182718613405, ['WOULD', 'YOU', 'LIKE', 'THEM', 'IN', 'A', 'HOUSE?']), (0.03492638917817515, ['SAM', 'I', 'AM']), (0.03492638917817515, ['I', 'AM', 'SAM']), (0.03492638917817515, ['I', 'AM', 'SAM']), (0.03486412173792891, ['WOULD', 'YOU', 'LIKE', 'THEM', 'HERE', 'OR', 'THERE?']), (0.02940805086606966, ['WOULD', 'YOU', 'LIKE', 'THEN', 'WITH', 'A', 'MOUSE?']), (0.010552425887368076, ['THAT', 'SAM-I-AM!', 'THAT', 'SAM-I-AM!'])]\n"
     ]
    }
   ],
   "source": [
    "# Step 4 - Sort the rank and pick top sentences\n",
    "ranked_sentence = sorted(((scores[i],s) for i,s in enumerate(sentences)), reverse=True)    \n",
    "print(\"Indexes of top ranked_sentence order are \\n\\n\", ranked_sentence)"
   ]
  },
  {
   "cell_type": "markdown",
   "id": "1fd288d0-ad49-4664-9bca-e2d5a2ac8e7b",
   "metadata": {},
   "source": [
    "# PICKING TOP \"N\" SENTENCES"
   ]
  },
  {
   "cell_type": "code",
   "execution_count": 37,
   "id": "7e1809fb-88d8-452f-9fbc-59cd3f44ef1c",
   "metadata": {},
   "outputs": [
    {
     "name": "stdin",
     "output_type": "stream",
     "text": [
      "How many sentences do you want in the summary?  5\n"
     ]
    }
   ],
   "source": [
    "#Step 5 - How many sentences to pick\n",
    "n = int(input(\"How many sentences do you want in the summary? \"))\n",
    "#n=2\n",
    "summarize_text = []\n",
    "for i in range(n):\n",
    "      summarize_text.append(\" \".join(ranked_sentence[i][1]))\n"
   ]
  },
  {
   "cell_type": "markdown",
   "id": "65985a7e-8708-466b-8a8a-57af72ecc86d",
   "metadata": {},
   "source": [
    "# PRINTING SUMMARY"
   ]
  },
  {
   "cell_type": "code",
   "execution_count": 38,
   "id": "eb04a3f9-fdea-496e-81c7-8e972ecbe5e5",
   "metadata": {},
   "outputs": [
    {
     "name": "stdout",
     "output_type": "stream",
     "text": [
      "Summarize Text: \n",
      " I DO NOT LIKE THAT SAM-I-AM!. I DO NOT LIKE THEM ANYWHERE. I DO NOT LIKE THEM HERE OR THERE. I DO NOT LIKE THEM, SAM-I-AM. I DO NOT LIKE THEM, SAM-I-AM\n"
     ]
    }
   ],
   "source": [
    "### Step 6 - Offcourse, output the summarize text\n",
    "print(\"Summarize Text: \\n\", \". \".join(summarize_text))"
   ]
  },
  {
   "cell_type": "markdown",
   "id": "bd3b87b0-a926-4ea2-ac3b-59f3fff083ad",
   "metadata": {},
   "source": [
    "# TEXTFILE-3"
   ]
  },
  {
   "cell_type": "markdown",
   "id": "aefb1561-3218-4ae5-ad2e-06a6555ff074",
   "metadata": {},
   "source": [
    "# OPENING FILE AND SPLITTING INTO SENTENCES"
   ]
  },
  {
   "cell_type": "code",
   "execution_count": 39,
   "id": "f450d997-b196-40dd-bd5a-513110a96dd1",
   "metadata": {},
   "outputs": [
    {
     "name": "stdout",
     "output_type": "stream",
     "text": [
      "As an institution of higher learning, Sacred Heart University places special emphasis on academic integrity, which is a commitment to the fundamental values of honesty, trust, fairness, respect, and responsibility\n",
      "Only when these values are widely respected and practiced by all members of the University students, faculty, administrators, and staff can the University maintain a culture that promotes free exploration of knowledge, constructive debate, genuine learning, effective research, fair assessment of student progress, and development of members characters\n",
      "These aims of the University require that its members exercise mutual responsibilities\n",
      "At its core, academic integrity is secured by a principled commitment to carry out these responsibilities, not by rules and penalties\n",
      "Students and faculty should strive to create an academic environment that is honest, fair, and respectful of all\n",
      "They do this by evaluating others work fairly, by responding to others ideas critically yet courteously, by respecting others intellectual and physical property, and by nurturing the values of academic integrity in all contexts of University life\n",
      "Appropriate disciplinary action will be taken for violations of academic integrity, including plagiarism, cheating, any use of materials for an assignment or exam that is not permitted by the instructor, and theft or mutilation of intellectual materials or other University equipment\n",
      "Faculty will assign failing grades for violations of the University policy on academic integrity and students may immediately receive an F for a course in which they commit a violation\n",
      "Violations of academic integrity are kept on file second violations will bring additional sanctions, up to dismissal from the University\n",
      "For any disciplinary action, the University affords the student the right of due process in an appeals procedure\n",
      "All matriculated students will be provided with a full description of the University standards for academic integrity, consequences for violations, and the appeals procedure.\n"
     ]
    }
   ],
   "source": [
    "file = open(\"C:/Users/teja/Downloads/Text3.txt\", \"r\")\n",
    "#This fileA contains one paragraph of multiple sentences\n",
    "filedata = file.readlines()\n",
    "article = filedata[0].split(\". \") #Just do the first paragraph\n",
    "\n",
    "sentences = []\n",
    "for sentence in article:\n",
    "    print(sentence)\n",
    "    sentences.append(sentence.replace(\"[^a-zA-Z]\", \" \").split(\" \"))"
   ]
  },
  {
   "cell_type": "markdown",
   "id": "75a3aa47-773c-42ec-b7b4-7ca77a286a96",
   "metadata": {},
   "source": [
    "# PRINTING LIST OF SENTENCES"
   ]
  },
  {
   "cell_type": "code",
   "execution_count": 40,
   "id": "d0234f16-8233-48d4-99ab-4b3966f18d0c",
   "metadata": {},
   "outputs": [
    {
     "name": "stdout",
     "output_type": "stream",
     "text": [
      "Sentences are  [['As', 'an', 'institution', 'of', 'higher', 'learning,', 'Sacred', 'Heart', 'University', 'places', 'special', 'emphasis', 'on', 'academic', 'integrity,', 'which', 'is', 'a', 'commitment', 'to', 'the', 'fundamental', 'values', 'of', 'honesty,', 'trust,', 'fairness,', 'respect,', 'and', 'responsibility'], ['Only', 'when', 'these', 'values', 'are', 'widely', 'respected', 'and', 'practiced', 'by', 'all', 'members', 'of', 'the', 'University', 'students,', 'faculty,', 'administrators,', 'and', 'staff', 'can', 'the', 'University', 'maintain', 'a', 'culture', 'that', 'promotes', 'free', 'exploration', 'of', 'knowledge,', 'constructive', 'debate,', 'genuine', 'learning,', 'effective', 'research,', 'fair', 'assessment', 'of', 'student', 'progress,', 'and', 'development', 'of', 'members', 'characters'], ['These', 'aims', 'of', 'the', 'University', 'require', 'that', 'its', 'members', 'exercise', 'mutual', 'responsibilities'], ['At', 'its', 'core,', 'academic', 'integrity', 'is', 'secured', 'by', 'a', 'principled', 'commitment', 'to', 'carry', 'out', 'these', 'responsibilities,', 'not', 'by', 'rules', 'and', 'penalties'], ['Students', 'and', 'faculty', 'should', 'strive', 'to', 'create', 'an', 'academic', 'environment', 'that', 'is', 'honest,', 'fair,', 'and', 'respectful', 'of', 'all'], ['They', 'do', 'this', 'by', 'evaluating', 'others', 'work', 'fairly,', 'by', 'responding', 'to', 'others', 'ideas', 'critically', 'yet', 'courteously,', 'by', 'respecting', 'others', 'intellectual', 'and', 'physical', 'property,', 'and', 'by', 'nurturing', 'the', 'values', 'of', 'academic', 'integrity', 'in', 'all', 'contexts', 'of', 'University', 'life'], ['Appropriate', 'disciplinary', 'action', 'will', 'be', 'taken', 'for', 'violations', 'of', 'academic', 'integrity,', 'including', 'plagiarism,', 'cheating,', 'any', 'use', 'of', 'materials', 'for', 'an', 'assignment', 'or', 'exam', 'that', 'is', 'not', 'permitted', 'by', 'the', 'instructor,', 'and', 'theft', 'or', 'mutilation', 'of', 'intellectual', 'materials', 'or', 'other', 'University', 'equipment'], ['Faculty', 'will', 'assign', 'failing', 'grades', 'for', 'violations', 'of', 'the', 'University', 'policy', 'on', 'academic', 'integrity', 'and', 'students', 'may', 'immediately', 'receive', 'an', 'F', 'for', 'a', 'course', 'in', 'which', 'they', 'commit', 'a', 'violation'], ['Violations', 'of', 'academic', 'integrity', 'are', 'kept', 'on', 'file', 'second', 'violations', 'will', 'bring', 'additional', 'sanctions,', 'up', 'to', 'dismissal', 'from', 'the', 'University'], ['For', 'any', 'disciplinary', 'action,', 'the', 'University', 'affords', 'the', 'student', 'the', 'right', 'of', 'due', 'process', 'in', 'an', 'appeals', 'procedure'], ['All', 'matriculated', 'students', 'will', 'be', 'provided', 'with', 'a', 'full', 'description', 'of', 'the', 'University', 'standards', 'for', 'academic', 'integrity,', 'consequences', 'for', 'violations,', 'and', 'the', 'appeals', 'procedure.']]\n"
     ]
    }
   ],
   "source": [
    "print(\"Sentences are \", sentences)"
   ]
  },
  {
   "cell_type": "markdown",
   "id": "d2b808ac-1ea0-4b71-aad7-21388edfc0cb",
   "metadata": {},
   "source": [
    "# FUNCTION TO CALCULATE SIMILARITY"
   ]
  },
  {
   "cell_type": "markdown",
   "id": "cc3064f6-e70a-40af-bc11-fd111aeaeb5b",
   "metadata": {},
   "source": [
    "The sentence_similarity function assesses the similarity between two sentences by using their word frequency vectors and cosine distance as the measurement tool. It starts by converting the sentences to lowercase and then constructs vectors that denote the frequency of each unique word found in the sentences. In the end, the function provides a similarity score that is derived from the cosine distance between these two vectors."
   ]
  },
  {
   "cell_type": "code",
   "execution_count": 41,
   "id": "06c0fd26-959d-4ac2-9987-4ccc5b757db6",
   "metadata": {},
   "outputs": [],
   "source": [
    "def sentence_similarity(sent1, sent2 ):\n",
    "    sent1 = [w.lower() for w in sent1]\n",
    "    sent2 = [w.lower() for w in sent2]\n",
    "    all_words = list(set(sent1 + sent2))\n",
    "    vector1 = [0] * len(all_words)\n",
    "    vector2 = [0] * len(all_words)\n",
    "     # build the vector for the first sentence\n",
    "    for w in sent1:\n",
    "          vector1[all_words.index(w)] += 1\n",
    "     # build the vector for the second sentence\n",
    "    for w in sent2:\n",
    "          vector2[all_words.index(w)] += 1\n",
    "    return 1 - cosine_distance(vector1, vector2)"
   ]
  },
  {
   "cell_type": "markdown",
   "id": "e74baed4-6f36-4fae-9a99-1467e3a58132",
   "metadata": {},
   "source": [
    "# CREATING SIMILARITY MATRIX"
   ]
  },
  {
   "cell_type": "markdown",
   "id": "c389d8c4-8336-4949-b595-6de51c8a66b5",
   "metadata": {},
   "source": [
    "\n",
    "similarity_matrix is a numpy array initialized with zeros, where each element represents the similarity between two sentences. The code iterates through all combinations of sentences, calculates the similarity between each pair using the sentence_similarity function, and stores the resulting similarity scores in the similarity_matrix. The diagonal elements (where idx1 == idx2) are ignored, as they represent comparisons of a sentence with itself. The final similarity matrix is printed out."
   ]
  },
  {
   "cell_type": "code",
   "execution_count": 42,
   "id": "35d28a53-7ecc-4848-a445-7ef721992dd8",
   "metadata": {},
   "outputs": [
    {
     "name": "stdout",
     "output_type": "stream",
     "text": [
      "Smilarity matrix \n",
      " [[0.         0.375      0.20412415 0.22116293 0.31622777 0.25315802\n",
      "  0.30439039 0.33348648 0.26382243 0.25259074 0.3006689 ]\n",
      " [0.375      0.         0.40824829 0.17201562 0.31622777 0.36822985\n",
      "  0.32780503 0.26274693 0.22613351 0.3127314  0.33407655]\n",
      " [0.20412415 0.40824829 0.         0.12038585 0.12909944 0.15032921\n",
      "  0.22941573 0.14852213 0.18463724 0.29462783 0.21821789]\n",
      " [0.22116293 0.17201562 0.12038585 0.         0.2331262  0.35290144\n",
      "  0.16571045 0.17879963 0.13336627 0.         0.11821656]\n",
      " [0.31622777 0.31622777 0.12909944 0.2331262  0.         0.26200013\n",
      "  0.26655699 0.26843775 0.14301939 0.09128709 0.25354628]\n",
      " [0.25315802 0.36822985 0.15032921 0.35290144 0.26200013 0.\n",
      "  0.27590308 0.22327214 0.19429458 0.1860229  0.22143052]\n",
      " [0.30439039 0.32780503 0.22941573 0.16571045 0.26655699 0.27590308\n",
      "  0.         0.3180176  0.25415212 0.32444284 0.37546963]\n",
      " [0.33348648 0.26274693 0.14852213 0.17879963 0.26843775 0.22327214\n",
      "  0.3180176  0.         0.32907259 0.31506302 0.45374261]\n",
      " [0.26382243 0.22613351 0.18463724 0.13336627 0.14301939 0.19429458\n",
      "  0.25415212 0.32907259 0.         0.21759707 0.24174689]\n",
      " [0.25259074 0.3127314  0.29462783 0.         0.09128709 0.1860229\n",
      "  0.32444284 0.31506302 0.21759707 0.         0.42433421]\n",
      " [0.3006689  0.33407655 0.21821789 0.11821656 0.25354628 0.22143052\n",
      "  0.37546963 0.45374261 0.24174689 0.42433421 0.        ]]\n"
     ]
    }
   ],
   "source": [
    "similarity_matrix = np.zeros((len(sentences), len(sentences)))\n",
    " \n",
    "for idx1 in range(len(sentences)):\n",
    "        for idx2 in range(len(sentences)):\n",
    "             if idx1 == idx2: #ignore if both are same sentences\n",
    "                continue \n",
    "             similarity_matrix[idx1][idx2] = sentence_similarity(sentences[idx1], sentences[idx2])\n",
    "\n",
    "print(\"Smilarity matrix \\n\", similarity_matrix)"
   ]
  },
  {
   "cell_type": "markdown",
   "id": "3408a8cf-955a-4c8b-8458-5cc503ab0912",
   "metadata": {},
   "source": [
    "# GETTING PAGERANK SCORES"
   ]
  },
  {
   "cell_type": "code",
   "execution_count": 44,
   "id": "0685900f-a196-4e8e-b918-e93cf78836f1",
   "metadata": {},
   "outputs": [
    {
     "name": "stdout",
     "output_type": "stream",
     "text": [
      "scores {0: 0.10052808533762261, 1: 0.1092617813187325, 2: 0.07743541734389628, 3: 0.06555131921078501, 4: 0.08353031285994028, 5: 0.09032582020361654, 6: 0.10094508912146115, 7: 0.10059598487085707, 8: 0.08058955768995534, 9: 0.08737172856802625, 10: 0.10386490347510732}\n"
     ]
    }
   ],
   "source": [
    "# Step 3 - Rank sentences in similarity martix\n",
    "sentence_similarity_graph = nx.from_numpy_array(similarity_matrix)\n",
    "scores = nx.pagerank(sentence_similarity_graph)\n",
    "print(\"scores\", scores)"
   ]
  },
  {
   "cell_type": "markdown",
   "id": "69f24427-cfe6-4c8d-b7d9-89e3a3a7b1ed",
   "metadata": {},
   "source": [
    "# SORTING SENTENCE BY PAGE RANK"
   ]
  },
  {
   "cell_type": "code",
   "execution_count": 45,
   "id": "c747e3f8-7667-4c67-92d6-051a88dfd2bf",
   "metadata": {},
   "outputs": [
    {
     "name": "stdout",
     "output_type": "stream",
     "text": [
      "Indexes of top ranked_sentence order are \n",
      "\n",
      " [(0.1092617813187325, ['Only', 'when', 'these', 'values', 'are', 'widely', 'respected', 'and', 'practiced', 'by', 'all', 'members', 'of', 'the', 'University', 'students,', 'faculty,', 'administrators,', 'and', 'staff', 'can', 'the', 'University', 'maintain', 'a', 'culture', 'that', 'promotes', 'free', 'exploration', 'of', 'knowledge,', 'constructive', 'debate,', 'genuine', 'learning,', 'effective', 'research,', 'fair', 'assessment', 'of', 'student', 'progress,', 'and', 'development', 'of', 'members', 'characters']), (0.10386490347510732, ['All', 'matriculated', 'students', 'will', 'be', 'provided', 'with', 'a', 'full', 'description', 'of', 'the', 'University', 'standards', 'for', 'academic', 'integrity,', 'consequences', 'for', 'violations,', 'and', 'the', 'appeals', 'procedure.']), (0.10094508912146115, ['Appropriate', 'disciplinary', 'action', 'will', 'be', 'taken', 'for', 'violations', 'of', 'academic', 'integrity,', 'including', 'plagiarism,', 'cheating,', 'any', 'use', 'of', 'materials', 'for', 'an', 'assignment', 'or', 'exam', 'that', 'is', 'not', 'permitted', 'by', 'the', 'instructor,', 'and', 'theft', 'or', 'mutilation', 'of', 'intellectual', 'materials', 'or', 'other', 'University', 'equipment']), (0.10059598487085707, ['Faculty', 'will', 'assign', 'failing', 'grades', 'for', 'violations', 'of', 'the', 'University', 'policy', 'on', 'academic', 'integrity', 'and', 'students', 'may', 'immediately', 'receive', 'an', 'F', 'for', 'a', 'course', 'in', 'which', 'they', 'commit', 'a', 'violation']), (0.10052808533762261, ['As', 'an', 'institution', 'of', 'higher', 'learning,', 'Sacred', 'Heart', 'University', 'places', 'special', 'emphasis', 'on', 'academic', 'integrity,', 'which', 'is', 'a', 'commitment', 'to', 'the', 'fundamental', 'values', 'of', 'honesty,', 'trust,', 'fairness,', 'respect,', 'and', 'responsibility']), (0.09032582020361654, ['They', 'do', 'this', 'by', 'evaluating', 'others', 'work', 'fairly,', 'by', 'responding', 'to', 'others', 'ideas', 'critically', 'yet', 'courteously,', 'by', 'respecting', 'others', 'intellectual', 'and', 'physical', 'property,', 'and', 'by', 'nurturing', 'the', 'values', 'of', 'academic', 'integrity', 'in', 'all', 'contexts', 'of', 'University', 'life']), (0.08737172856802625, ['For', 'any', 'disciplinary', 'action,', 'the', 'University', 'affords', 'the', 'student', 'the', 'right', 'of', 'due', 'process', 'in', 'an', 'appeals', 'procedure']), (0.08353031285994028, ['Students', 'and', 'faculty', 'should', 'strive', 'to', 'create', 'an', 'academic', 'environment', 'that', 'is', 'honest,', 'fair,', 'and', 'respectful', 'of', 'all']), (0.08058955768995534, ['Violations', 'of', 'academic', 'integrity', 'are', 'kept', 'on', 'file', 'second', 'violations', 'will', 'bring', 'additional', 'sanctions,', 'up', 'to', 'dismissal', 'from', 'the', 'University']), (0.07743541734389628, ['These', 'aims', 'of', 'the', 'University', 'require', 'that', 'its', 'members', 'exercise', 'mutual', 'responsibilities']), (0.06555131921078501, ['At', 'its', 'core,', 'academic', 'integrity', 'is', 'secured', 'by', 'a', 'principled', 'commitment', 'to', 'carry', 'out', 'these', 'responsibilities,', 'not', 'by', 'rules', 'and', 'penalties'])]\n"
     ]
    }
   ],
   "source": [
    "# Step 4 - Sort the rank and pick top sentences\n",
    "ranked_sentence = sorted(((scores[i],s) for i,s in enumerate(sentences)), reverse=True)    \n",
    "print(\"Indexes of top ranked_sentence order are \\n\\n\", ranked_sentence)"
   ]
  },
  {
   "cell_type": "markdown",
   "id": "f62bbc41-65f4-46d1-b0d6-beb5b296de50",
   "metadata": {},
   "source": [
    "# PICKING TOP \"N\" SENTENCES"
   ]
  },
  {
   "cell_type": "code",
   "execution_count": 47,
   "id": "ce30dc4c-e9e8-4e59-ab8d-5075fc43d36d",
   "metadata": {},
   "outputs": [
    {
     "name": "stdin",
     "output_type": "stream",
     "text": [
      "How many sentences do you want in the summary?  5\n"
     ]
    }
   ],
   "source": [
    "#Step 5 - How many sentences to pick\n",
    "n = int(input(\"How many sentences do you want in the summary? \"))\n",
    "#n=2\n",
    "summarize_text = []\n",
    "for i in range(n):\n",
    "      summarize_text.append(\" \".join(ranked_sentence[i][1]))\n"
   ]
  },
  {
   "cell_type": "markdown",
   "id": "a85bca22-7a2f-49b6-9f68-941c88dcbbe8",
   "metadata": {},
   "source": [
    "# PRINTING SUMMARY"
   ]
  },
  {
   "cell_type": "code",
   "execution_count": 48,
   "id": "a4ae1b0c-926e-48c2-8140-5f5d34ec1e46",
   "metadata": {},
   "outputs": [
    {
     "name": "stdout",
     "output_type": "stream",
     "text": [
      "Summarize Text: \n",
      " Only when these values are widely respected and practiced by all members of the University students, faculty, administrators, and staff can the University maintain a culture that promotes free exploration of knowledge, constructive debate, genuine learning, effective research, fair assessment of student progress, and development of members characters. All matriculated students will be provided with a full description of the University standards for academic integrity, consequences for violations, and the appeals procedure.. Appropriate disciplinary action will be taken for violations of academic integrity, including plagiarism, cheating, any use of materials for an assignment or exam that is not permitted by the instructor, and theft or mutilation of intellectual materials or other University equipment. Faculty will assign failing grades for violations of the University policy on academic integrity and students may immediately receive an F for a course in which they commit a violation. As an institution of higher learning, Sacred Heart University places special emphasis on academic integrity, which is a commitment to the fundamental values of honesty, trust, fairness, respect, and responsibility\n"
     ]
    }
   ],
   "source": [
    "### Step 6 - Offcourse, output the summarize text\n",
    "print(\"Summarize Text: \\n\", \". \".join(summarize_text))"
   ]
  }
 ],
 "metadata": {
  "kernelspec": {
   "display_name": "Python 3 (ipykernel)",
   "language": "python",
   "name": "python3"
  },
  "language_info": {
   "codemirror_mode": {
    "name": "ipython",
    "version": 3
   },
   "file_extension": ".py",
   "mimetype": "text/x-python",
   "name": "python",
   "nbconvert_exporter": "python",
   "pygments_lexer": "ipython3",
   "version": "3.12.2"
  }
 },
 "nbformat": 4,
 "nbformat_minor": 5
}
